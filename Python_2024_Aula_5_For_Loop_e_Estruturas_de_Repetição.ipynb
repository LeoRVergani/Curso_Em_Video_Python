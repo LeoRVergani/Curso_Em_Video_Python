{
  "nbformat": 4,
  "nbformat_minor": 0,
  "metadata": {
    "colab": {
      "provenance": [],
      "authorship_tag": "ABX9TyPegNKHFInkpqmOsp3S2dFo",
      "include_colab_link": true
    },
    "kernelspec": {
      "name": "python3",
      "display_name": "Python 3"
    },
    "language_info": {
      "name": "python"
    }
  },
  "cells": [
    {
      "cell_type": "markdown",
      "metadata": {
        "id": "view-in-github",
        "colab_type": "text"
      },
      "source": [
        "<a href=\"https://colab.research.google.com/github/LeoRVergani/Curso_Em_Video_Python/blob/main/Python_2024_Aula_5_For_Loop_e_Estruturas_de_Repeti%C3%A7%C3%A3o.ipynb\" target=\"_parent\"><img src=\"https://colab.research.google.com/assets/colab-badge.svg\" alt=\"Open In Colab\"/></a>"
      ]
    },
    {
      "cell_type": "code",
      "execution_count": 71,
      "metadata": {
        "colab": {
          "base_uri": "https://localhost:8080/"
        },
        "id": "Q39_E-Q3wwsA",
        "outputId": "3966945c-a92e-40f5-f31e-eae2caac13e7"
      },
      "outputs": [
        {
          "output_type": "stream",
          "name": "stdout",
          "text": [
            "O bonus do vendedor é: 0.00\n",
            "O bonus do vendedor é: 0.00\n",
            "O bonus do vendedor é: 0.00\n",
            "O bonus do vendedor é: 150.00\n",
            "O bonus do vendedor é: 200.00\n",
            "O bonus do vendedor é: 230.00\n"
          ]
        }
      ],
      "source": [
        "lista_vendas = [1000, 500, 800, 1500, 2000, 2300]\n",
        "\n",
        "item = 0\n",
        "meta = 1200\n",
        "percentual_bonus = 0.1\n",
        "\n",
        "\n",
        "\n",
        "for venda in lista_vendas:\n",
        "      if venda >= meta:\n",
        "        bonus = percentual_bonus * venda\n",
        "      else:\n",
        "        bonus = 0\n",
        "      print(f'O bonus do vendedor é: {bonus:.2f}')\n",
        "\n"
      ]
    }
  ]
}