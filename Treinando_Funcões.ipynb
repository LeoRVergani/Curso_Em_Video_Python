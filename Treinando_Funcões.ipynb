{
  "nbformat": 4,
  "nbformat_minor": 0,
  "metadata": {
    "colab": {
      "provenance": [],
      "authorship_tag": "ABX9TyMNP4RGnxvMkCefvknslEeq",
      "include_colab_link": true
    },
    "kernelspec": {
      "name": "python3",
      "display_name": "Python 3"
    },
    "language_info": {
      "name": "python"
    }
  },
  "cells": [
    {
      "cell_type": "markdown",
      "metadata": {
        "id": "view-in-github",
        "colab_type": "text"
      },
      "source": [
        "<a href=\"https://colab.research.google.com/github/LeoRVergani/Curso_Em_Video_Python/blob/main/Treinando_Func%C3%B5es.ipynb\" target=\"_parent\"><img src=\"https://colab.research.google.com/assets/colab-badge.svg\" alt=\"Open In Colab\"/></a>"
      ]
    },
    {
      "cell_type": "markdown",
      "source": [
        "**Funções do Python**"
      ],
      "metadata": {
        "id": "CpwYYbTGq34o"
      }
    },
    {
      "cell_type": "code",
      "execution_count": null,
      "metadata": {
        "id": "10Bzpf1MqyA9"
      },
      "outputs": [],
      "source": [
        "def soma (a, b):\n",
        "  print('='*30)\n",
        "  print(f'A = {a} e B = {b}')\n",
        "  s = a + b\n",
        "  print(f'A soma de A + B = {s}')\n",
        "  print('='*30)\n",
        "\n",
        "\n",
        "soma(4, 5)\n",
        "soma(10, 10)\n",
        "soma(b=9, a=8)"
      ]
    },
    {
      "cell_type": "code",
      "source": [
        "def soma(* valores):\n",
        "  s = 0\n",
        "  for n in valores:\n",
        "      s += n\n",
        "  print(f'Somando os valores {valores} temos {s}')\n",
        "\n",
        "soma(5, 2)\n",
        "soma(2, 9, 4)\n",
        "soma(2, 2, 5, 9, 8, 9, 6, 230)"
      ],
      "metadata": {
        "id": "yFUeHepWuxy3"
      },
      "execution_count": null,
      "outputs": []
    },
    {
      "cell_type": "code",
      "source": [
        "import random\n",
        "n1 = str(input('Primeiro aluno: '))\n",
        "n2 = str(input('Segundo aluno: '))\n",
        "n3 = str(input('Terceiro aluno: '))\n",
        "n4 = str(input('Quarto aluno: '))\n",
        "n5 = str(input('Quinto aluno: '))\n",
        "n6 = str(input('Sexto aluno: '))\n",
        "lista = [n1, n2, n3, n4, n5, n6]\n",
        "escolhido = random.choice(lista)\n",
        "print('O aluno escolhido foi {}.'.format(escolhido))"
      ],
      "metadata": {
        "id": "H8jmT6yZVclq"
      },
      "execution_count": null,
      "outputs": []
    },
    {
      "cell_type": "code",
      "source": [
        "import random\n",
        "n1 = str(input('Primeiro aluno: '))\n",
        "n2 = str(input('Segundo aluno: '))\n",
        "n3 = str(input('Terceiro aluno: '))\n",
        "n4 = str(input('Quarto aluno: '))\n",
        "lista = [n1, n2, n3, n4]\n",
        "random.shuffle(lista)\n",
        "print('O aluno escolhido foi ')\n",
        "print(lista)"
      ],
      "metadata": {
        "id": "Gvyl1itpYGAh"
      },
      "execution_count": null,
      "outputs": []
    },
    {
      "cell_type": "code",
      "source": [
        "nome_completo = str(input('Digite seu nome completo: ')).strip()\n",
        "print('Seu nome em maiúsculas fica: {}' .format(nome_completo.upper())) # Deixar todas as letras em maiusculas.\n",
        "print('Seu nome em minúsculas fica: {}' .format(nome_completo.lower())) # Deixar todas as letras em minusculas.\n",
        "print('Seu nome completo tem {} letras.' .format(len(nome_completo) - nome_completo.count(' '))) # Contar quantas letras sem contar o espaço.\n",
        "nome_split = nome_completo.split()\n",
        "print('O primeiro nome é {} e tem {} letras. ' .format(nome_split[0], len(nome_split[0]))) # Quantas letras tem o primeiro nome.\n",
        "\n",
        "\n"
      ],
      "metadata": {
        "id": "WvXmFPFzlILP"
      },
      "execution_count": null,
      "outputs": []
    },
    {
      "cell_type": "code",
      "source": [
        "num = int(input('Informe um número entre 0 e 9999: '))\n",
        "u = num // 1 % 10\n",
        "d = num // 10 % 10\n",
        "c = num // 100 % 10\n",
        "m = num // 1000 % 10\n",
        "\n",
        "print('Analisando o número {}'.format(num))\n",
        "print('Unidade: {}' .format(u))\n",
        "print('Dezena: {}'.format(d))\n",
        "print('Centena: {}'.format(c))\n",
        "print('Milhar: {}'.format(m))"
      ],
      "metadata": {
        "id": "Z8y_ptVdweSR"
      },
      "execution_count": null,
      "outputs": []
    }
  ]
}