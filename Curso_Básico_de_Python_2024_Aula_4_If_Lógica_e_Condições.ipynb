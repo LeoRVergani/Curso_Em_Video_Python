{
  "nbformat": 4,
  "nbformat_minor": 0,
  "metadata": {
    "colab": {
      "provenance": [],
      "authorship_tag": "ABX9TyMJ/0lvX+nSKe5g0KVeaZ4d",
      "include_colab_link": true
    },
    "kernelspec": {
      "name": "python3",
      "display_name": "Python 3"
    },
    "language_info": {
      "name": "python"
    }
  },
  "cells": [
    {
      "cell_type": "markdown",
      "metadata": {
        "id": "view-in-github",
        "colab_type": "text"
      },
      "source": [
        "<a href=\"https://colab.research.google.com/github/LeoRVergani/Curso_Em_Video_Python/blob/main/Curso_B%C3%A1sico_de_Python_2024_Aula_4_If_L%C3%B3gica_e_Condi%C3%A7%C3%B5es.ipynb\" target=\"_parent\"><img src=\"https://colab.research.google.com/assets/colab-badge.svg\" alt=\"Open In Colab\"/></a>"
      ]
    },
    {
      "cell_type": "code",
      "execution_count": 6,
      "metadata": {
        "colab": {
          "base_uri": "https://localhost:8080/"
        },
        "id": "UTGmpxYUtupn",
        "outputId": "31cb21d7-1767-42ba-ac05-223e7968ea9c"
      },
      "outputs": [
        {
          "output_type": "stream",
          "name": "stdout",
          "text": [
            "Vendedor ganha bônus\n",
            "Bateu a meta de vendas\n",
            "Bonus do vendedor:  150.0\n",
            "Acabou o programa\n",
            "Bonus: 150.00 reais.\n"
          ]
        }
      ],
      "source": [
        "vendas = 1500\n",
        "meta = 1300\n",
        "\n",
        "# > maior que\n",
        "# < menor que\n",
        "# >= maior ou igual\n",
        "# <= menor ou igual\n",
        "# == igual\n",
        "# != diferente\n",
        "\n",
        "if vendas > meta:\n",
        "\tprint(\"Vendedor ganha bônus\")\n",
        "\tprint(\"Bateu a meta de vendas\")\n",
        "\tbonus = 0.1 * vendas\n",
        "\tprint(\"Bonus do vendedor: \", bonus)\n",
        "else:\n",
        "\tprint(\"Vendedor não ganha bonus\")\n",
        "\tprint(\"Não bateu a meta de vendas\")\n",
        "\n",
        "print(\"Acabou o programa\")\n",
        "\n",
        "# 2 cenário\n",
        "\n",
        "vendas = 1500\n",
        "meta1 = 1300 # ganha 10%\n",
        "meta2 = 2000 # ganha 13%\n",
        "\n",
        "if vendas >= 2000:\n",
        "\tbonus = 0.13 * vendas\n",
        "elif vendas >= 1300:\n",
        "\tbonus = 0.1 * vendas\n",
        "else:\n",
        "\tbonus = 0\n",
        "\n",
        "print(f\"Bonus: {bonus:.2f} reais.\")\n"
      ]
    }
  ]
}