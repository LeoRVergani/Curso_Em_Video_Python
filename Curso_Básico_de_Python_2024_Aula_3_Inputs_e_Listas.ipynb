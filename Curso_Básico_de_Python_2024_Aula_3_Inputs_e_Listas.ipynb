{
  "nbformat": 4,
  "nbformat_minor": 0,
  "metadata": {
    "colab": {
      "provenance": [],
      "authorship_tag": "ABX9TyNDaHuy/9eGqXyCw0vFLzEv",
      "include_colab_link": true
    },
    "kernelspec": {
      "name": "python3",
      "display_name": "Python 3"
    },
    "language_info": {
      "name": "python"
    }
  },
  "cells": [
    {
      "cell_type": "markdown",
      "metadata": {
        "id": "view-in-github",
        "colab_type": "text"
      },
      "source": [
        "<a href=\"https://colab.research.google.com/github/LeoRVergani/Curso_Em_Video_Python/blob/main/Curso_B%C3%A1sico_de_Python_2024_Aula_3_Inputs_e_Listas.ipynb\" target=\"_parent\"><img src=\"https://colab.research.google.com/assets/colab-badge.svg\" alt=\"Open In Colab\"/></a>"
      ]
    },
    {
      "cell_type": "code",
      "execution_count": 1,
      "metadata": {
        "colab": {
          "base_uri": "https://localhost:8080/"
        },
        "id": "6XRUbAKamu36",
        "outputId": "2c03281e-7beb-4625-ffd1-e12cb2415e02"
      },
      "outputs": [
        {
          "output_type": "stream",
          "name": "stdout",
          "text": [
            "3450\n",
            "7\n",
            "1000\n",
            "50\n",
            "1000\n",
            "Pesquise pelo nome do produto: Iphone\n",
            "True\n"
          ]
        }
      ],
      "source": [
        "vendas = [100, 700, 50, 400, 600, 1000, 600]\n",
        "\n",
        "# soma dos elementos\n",
        "total_vendas = sum(vendas)\n",
        "print(total_vendas)\n",
        "\n",
        "# tamanho da lista\n",
        "qtd_vendas = len(vendas)\n",
        "print(qtd_vendas)\n",
        "\n",
        "# max e min\n",
        "print(max(vendas))\n",
        "print(min(vendas))\n",
        "\n",
        "# pegar posição\n",
        "print(vendas[5])\n",
        "\n",
        "lista_produtos = [\"iphone\", \"airpod\", \"ipad\", \"macbook\"]\n",
        "\n",
        "produto_procurado = input(\"Pesquise pelo nome do produto: \")\n",
        "produto_procurado = produto_procurado.lower()\n",
        "\n",
        "print(produto_procurado in lista_produtos)"
      ]
    }
  ]
}